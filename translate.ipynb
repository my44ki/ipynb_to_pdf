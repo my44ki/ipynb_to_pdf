{
 "cells": [
  {
   "cell_type": "code",
   "execution_count": 1,
   "id": "b5df0244-119f-41af-8f59-721f1a0268d3",
   "metadata": {},
   "outputs": [],
   "source": [
    "%run ipynb_to_pdf.py"
   ]
  }
 ],
 "metadata": {
  "kernelspec": {
   "display_name": "Python 3 (ipykernel)",
   "language": "python",
   "name": "python3"
  },
  "language_info": {
   "codemirror_mode": {
    "name": "ipython",
    "version": 3
   },
   "file_extension": ".py",
   "mimetype": "text/x-python",
   "name": "python",
   "nbconvert_exporter": "python",
   "pygments_lexer": "ipython3",
   "version": "3.8.16"
  }
 },
 "nbformat": 4,
 "nbformat_minor": 5
}
